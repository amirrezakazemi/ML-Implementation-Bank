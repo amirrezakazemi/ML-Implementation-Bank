{
 "cells": [
  {
   "cell_type": "code",
   "execution_count": 39,
   "metadata": {},
   "outputs": [
    {
     "name": "stdout",
     "output_type": "stream",
     "text": [
      "[3. 1. 2.]\n",
      "[35. 44.]\n"
     ]
    }
   ],
   "source": [
    "import numpy as np\n",
    "class LinearRegression():\n",
    "    def __init__(self) -> None:\n",
    "\n",
    "        self.weight = None\n",
    "\n",
    "        pass\n",
    "    def fit(self, X, Y):\n",
    "        \"\"\" \n",
    "        ### Input\n",
    "        X: (n, d)\n",
    "        Y: (n, )\n",
    "\n",
    "        ### Output:\n",
    "        W: (d, )\n",
    "\n",
    "\n",
    "        W = (X^TX)^{-1} X^TY\n",
    "        \"\"\"\n",
    "\n",
    "        ### Adding bias\n",
    "        bias = np.ones((X.shape[0])).reshape(X.shape[0], 1)\n",
    "        X = np.hstack((bias, X))\n",
    "\n",
    "        self.weight = np.linalg.inv(X.T @ X) @ X.T @ Y\n",
    "\n",
    "\n",
    "        \n",
    "    def predict(self, X):\n",
    "        bias = np.ones((X.shape[0])).reshape(X.shape[0], 1)\n",
    "        X = np.hstack((bias, X))\n",
    "        return X @ self.weight\n",
    "\n",
    "\n",
    "\n",
    "# Create example input data\n",
    "X = np.array([[2, 2], [4, 5], [7, 8]])\n",
    "y = np.array([9, 17, 26])\n",
    "\n",
    "# Fit linear regression model\n",
    "lr = LinearRegression()\n",
    "lr.fit(X, y)\n",
    "print(lr.weight) # [3. 1. 2.]\n",
    "\n",
    "# Make predictions on new data\n",
    "X_new = np.array([[10, 11], [13, 14]])\n",
    "y_pred = lr.predict(X_new)\n",
    "print(y_pred)\n",
    "\n",
    "\n",
    "        "
   ]
  },
  {
   "cell_type": "code",
   "execution_count": 53,
   "metadata": {},
   "outputs": [
    {
     "name": "stdout",
     "output_type": "stream",
     "text": [
      "[1.99964292 0.65345474]\n",
      "[2.65309766 3.3065524  3.96000714 4.61346188 5.26691662]\n"
     ]
    },
    {
     "data": {
      "image/png": "[encoded data removed]",
      "text/plain": [
       "<Figure size 640x480 with 1 Axes>"
      ]
     },
     "metadata": {},
     "output_type": "display_data"
    }
   ],
   "source": [
    "import numpy as np\n",
    "class LinearRegressionGD():\n",
    "    def __init__(self, reg=0.1) -> None:\n",
    "        self.weight = None\n",
    "        self.reg = reg\n",
    "\n",
    "        pass\n",
    "    def fit(self, X, Y, lr, steps):\n",
    "        \"\"\" \n",
    "        ### Input\n",
    "        X: (n, d)\n",
    "        Y: (n, )\n",
    "\n",
    "        ### Output:\n",
    "        W: (d, )\n",
    "        \"\"\"\n",
    "\n",
    "        \n",
    "\n",
    "\n",
    "        ### Adding bias\n",
    "        bias = np.ones((X.shape[0])).reshape(X.shape[0], 1)\n",
    "        \n",
    "        X = np.hstack((bias, X))\n",
    "\n",
    "        self.weight = np.zeros((X.shape[1]))\n",
    "\n",
    "\n",
    "        for i in range(steps):\n",
    "            self.weight -= 2 * lr * (X.T @ (X@self.weight - Y) + self.reg * self.weight)\n",
    "        \n",
    "    def predict(self, X):\n",
    "        bias = np.ones((X.shape[0])).reshape(X.shape[0], 1)\n",
    "        X = np.hstack((bias, X))\n",
    "        return X @ self.weight\n",
    "\n",
    "\n",
    "\n",
    "X = np.array([[1, 2, 3, 4, 5]]).T\n",
    "y = np.array([2, 4, 5, 4, 5])\n",
    "lr = LinearRegressionGD(reg=0.1)\n",
    "lr.fit(X, y, lr=0.01, steps=10000)\n",
    "print(lr.weight)  # Output: [ 1.99964292  0.65345474 ]\n",
    "y_pred = lr.predict(X)\n",
    "print(y_pred)  # # Output: [2.65309766, 3.3065524, 3.96000714, 4.61346188, 5.26691662]\n",
    "\n",
    "\n",
    "\n",
    "import matplotlib.pyplot as plt \n",
    "\n",
    "# Plot the data and the linear regression line\n",
    "plt.scatter(X, y, color='blue')\n",
    "plt.plot(X, y_pred, color='red')\n",
    "plt.xlabel('X')\n",
    "plt.ylabel('y')\n",
    "plt.title('Linear Regression')\n",
    "plt.show()"
   ]
  }
 ],
 "metadata": {
  "kernelspec": {
   "display_name": "Python 3.8.8 ('GRL-DTA-YVPbGvek')",
   "language": "python",
   "name": "python3"
  },
  "language_info": {
   "codemirror_mode": {
    "name": "ipython",
    "version": 3
   },
   "file_extension": ".py",
   "mimetype": "text/x-python",
   "name": "python",
   "nbconvert_exporter": "python",
   "pygments_lexer": "ipython3",
   "version": "3.8.8"
  },
  "orig_nbformat": 4,
  "vscode": {
   "interpreter": {
    "hash": "5e58127e463989fa099f6aa560686f307565ac6fb929ad63eb0ce9728b1eacef"
   }
  }
 },
 "nbformat": 4,
 "nbformat_minor": 2
}
